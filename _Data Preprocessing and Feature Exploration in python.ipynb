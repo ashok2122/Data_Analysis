{
 "cells": [
  {
   "cell_type": "markdown",
   "id": "12854f46",
   "metadata": {},
   "source": [
    "#  Pre modeling : Data Preprocessing and Feature Exploration in python"
   ]
  },
  {
   "cell_type": "markdown",
   "id": "de80ae69",
   "metadata": {},
   "source": [
    "A) TASK# given attributes about the person to say their income is <=50k or >50k"
   ]
  },
  {
   "cell_type": "code",
   "execution_count": 1,
   "id": "5926ba11",
   "metadata": {},
   "outputs": [],
   "source": [
    "import pandas as pd\n",
    "import numpy as np "
   ]
  },
  {
   "cell_type": "markdown",
   "id": "c29faece",
   "metadata": {},
   "source": [
    "r is used before the address to declare it is a raw string where backslashes are not interpret the address"
   ]
  },
  {
   "cell_type": "code",
   "execution_count": 2,
   "id": "5e8e65c0",
   "metadata": {},
   "outputs": [],
   "source": [
    "df= pd.read_csv(r\"C:\\Users\\User\\Downloads\\adult.csv\\adult.csv\")"
   ]
  },
  {
   "cell_type": "code",
   "execution_count": 3,
   "id": "fecf018f",
   "metadata": {},
   "outputs": [
    {
     "data": {
      "text/html": [
       "<div>\n",
       "<style scoped>\n",
       "    .dataframe tbody tr th:only-of-type {\n",
       "        vertical-align: middle;\n",
       "    }\n",
       "\n",
       "    .dataframe tbody tr th {\n",
       "        vertical-align: top;\n",
       "    }\n",
       "\n",
       "    .dataframe thead th {\n",
       "        text-align: right;\n",
       "    }\n",
       "</style>\n",
       "<table border=\"1\" class=\"dataframe\">\n",
       "  <thead>\n",
       "    <tr style=\"text-align: right;\">\n",
       "      <th></th>\n",
       "      <th>age</th>\n",
       "      <th>workclass</th>\n",
       "      <th>fnlwgt</th>\n",
       "      <th>education</th>\n",
       "      <th>educational-num</th>\n",
       "      <th>marital-status</th>\n",
       "      <th>occupation</th>\n",
       "      <th>relationship</th>\n",
       "      <th>race</th>\n",
       "      <th>gender</th>\n",
       "      <th>capital-gain</th>\n",
       "      <th>capital-loss</th>\n",
       "      <th>hours-per-week</th>\n",
       "      <th>native-country</th>\n",
       "      <th>income</th>\n",
       "    </tr>\n",
       "  </thead>\n",
       "  <tbody>\n",
       "    <tr>\n",
       "      <th>0</th>\n",
       "      <td>25</td>\n",
       "      <td>Private</td>\n",
       "      <td>226802</td>\n",
       "      <td>11th</td>\n",
       "      <td>7</td>\n",
       "      <td>Never-married</td>\n",
       "      <td>Machine-op-inspct</td>\n",
       "      <td>Own-child</td>\n",
       "      <td>Black</td>\n",
       "      <td>Male</td>\n",
       "      <td>0</td>\n",
       "      <td>0</td>\n",
       "      <td>40</td>\n",
       "      <td>United-States</td>\n",
       "      <td>&lt;=50K</td>\n",
       "    </tr>\n",
       "    <tr>\n",
       "      <th>1</th>\n",
       "      <td>38</td>\n",
       "      <td>Private</td>\n",
       "      <td>89814</td>\n",
       "      <td>HS-grad</td>\n",
       "      <td>9</td>\n",
       "      <td>Married-civ-spouse</td>\n",
       "      <td>Farming-fishing</td>\n",
       "      <td>Husband</td>\n",
       "      <td>White</td>\n",
       "      <td>Male</td>\n",
       "      <td>0</td>\n",
       "      <td>0</td>\n",
       "      <td>50</td>\n",
       "      <td>United-States</td>\n",
       "      <td>&lt;=50K</td>\n",
       "    </tr>\n",
       "    <tr>\n",
       "      <th>2</th>\n",
       "      <td>28</td>\n",
       "      <td>Local-gov</td>\n",
       "      <td>336951</td>\n",
       "      <td>Assoc-acdm</td>\n",
       "      <td>12</td>\n",
       "      <td>Married-civ-spouse</td>\n",
       "      <td>Protective-serv</td>\n",
       "      <td>Husband</td>\n",
       "      <td>White</td>\n",
       "      <td>Male</td>\n",
       "      <td>0</td>\n",
       "      <td>0</td>\n",
       "      <td>40</td>\n",
       "      <td>United-States</td>\n",
       "      <td>&gt;50K</td>\n",
       "    </tr>\n",
       "    <tr>\n",
       "      <th>3</th>\n",
       "      <td>44</td>\n",
       "      <td>Private</td>\n",
       "      <td>160323</td>\n",
       "      <td>Some-college</td>\n",
       "      <td>10</td>\n",
       "      <td>Married-civ-spouse</td>\n",
       "      <td>Machine-op-inspct</td>\n",
       "      <td>Husband</td>\n",
       "      <td>Black</td>\n",
       "      <td>Male</td>\n",
       "      <td>7688</td>\n",
       "      <td>0</td>\n",
       "      <td>40</td>\n",
       "      <td>United-States</td>\n",
       "      <td>&gt;50K</td>\n",
       "    </tr>\n",
       "    <tr>\n",
       "      <th>4</th>\n",
       "      <td>18</td>\n",
       "      <td>?</td>\n",
       "      <td>103497</td>\n",
       "      <td>Some-college</td>\n",
       "      <td>10</td>\n",
       "      <td>Never-married</td>\n",
       "      <td>?</td>\n",
       "      <td>Own-child</td>\n",
       "      <td>White</td>\n",
       "      <td>Female</td>\n",
       "      <td>0</td>\n",
       "      <td>0</td>\n",
       "      <td>30</td>\n",
       "      <td>United-States</td>\n",
       "      <td>&lt;=50K</td>\n",
       "    </tr>\n",
       "  </tbody>\n",
       "</table>\n",
       "</div>"
      ],
      "text/plain": [
       "   age  workclass  fnlwgt     education  educational-num      marital-status  \\\n",
       "0   25    Private  226802          11th                7       Never-married   \n",
       "1   38    Private   89814       HS-grad                9  Married-civ-spouse   \n",
       "2   28  Local-gov  336951    Assoc-acdm               12  Married-civ-spouse   \n",
       "3   44    Private  160323  Some-college               10  Married-civ-spouse   \n",
       "4   18          ?  103497  Some-college               10       Never-married   \n",
       "\n",
       "          occupation relationship   race  gender  capital-gain  capital-loss  \\\n",
       "0  Machine-op-inspct    Own-child  Black    Male             0             0   \n",
       "1    Farming-fishing      Husband  White    Male             0             0   \n",
       "2    Protective-serv      Husband  White    Male             0             0   \n",
       "3  Machine-op-inspct      Husband  Black    Male          7688             0   \n",
       "4                  ?    Own-child  White  Female             0             0   \n",
       "\n",
       "   hours-per-week native-country income  \n",
       "0              40  United-States  <=50K  \n",
       "1              50  United-States  <=50K  \n",
       "2              40  United-States   >50K  \n",
       "3              40  United-States   >50K  \n",
       "4              30  United-States  <=50K  "
      ]
     },
     "execution_count": 3,
     "metadata": {},
     "output_type": "execute_result"
    }
   ],
   "source": [
    "df.head()\n"
   ]
  },
  {
   "cell_type": "code",
   "execution_count": 4,
   "id": "28dbcf10",
   "metadata": {},
   "outputs": [
    {
     "name": "stdout",
     "output_type": "stream",
     "text": [
      "<=50K    37155\n",
      ">50K     11687\n",
      "Name: income, dtype: int64\n"
     ]
    }
   ],
   "source": [
    "print(df[\"income\"].value_counts())\n"
   ]
  },
  {
   "cell_type": "code",
   "execution_count": 5,
   "id": "4ed3f46f",
   "metadata": {},
   "outputs": [],
   "source": [
    "# if income <=50k then it will show as 0 or it will >50k it shows as 1\n",
    "df['income'] = [0 if x=='<=50k' else 1 for x in df['income']]\n",
    "    "
   ]
  },
  {
   "cell_type": "code",
   "execution_count": 6,
   "id": "46f0f381",
   "metadata": {},
   "outputs": [
    {
     "name": "stderr",
     "output_type": "stream",
     "text": [
      "C:\\Users\\User\\AppData\\Local\\Temp\\ipykernel_17956\\1583005712.py:2: FutureWarning: In a future version of pandas all arguments of DataFrame.drop except for the argument 'labels' will be keyword-only.\n",
      "  x = df.drop('income',1)\n"
     ]
    }
   ],
   "source": [
    "# we are creating x as the data frame of features and  Y as the series\n",
    "x = df.drop('income',1)\n",
    "y = df.income\n"
   ]
  },
  {
   "cell_type": "code",
   "execution_count": 7,
   "id": "471e3d91",
   "metadata": {},
   "outputs": [
    {
     "name": "stdout",
     "output_type": "stream",
     "text": [
      "   age  workclass  fnlwgt     education  educational-num      marital-status  \\\n",
      "0   25    Private  226802          11th                7       Never-married   \n",
      "1   38    Private   89814       HS-grad                9  Married-civ-spouse   \n",
      "2   28  Local-gov  336951    Assoc-acdm               12  Married-civ-spouse   \n",
      "3   44    Private  160323  Some-college               10  Married-civ-spouse   \n",
      "4   18          ?  103497  Some-college               10       Never-married   \n",
      "\n",
      "          occupation relationship   race  gender  capital-gain  capital-loss  \\\n",
      "0  Machine-op-inspct    Own-child  Black    Male             0             0   \n",
      "1    Farming-fishing      Husband  White    Male             0             0   \n",
      "2    Protective-serv      Husband  White    Male             0             0   \n",
      "3  Machine-op-inspct      Husband  Black    Male          7688             0   \n",
      "4                  ?    Own-child  White  Female             0             0   \n",
      "\n",
      "   hours-per-week native-country  \n",
      "0              40  United-States  \n",
      "1              50  United-States  \n",
      "2              40  United-States  \n",
      "3              40  United-States  \n",
      "4              30  United-States  \n"
     ]
    }
   ],
   "source": [
    "print(x.head())"
   ]
  },
  {
   "cell_type": "code",
   "execution_count": 8,
   "id": "bf62dd64",
   "metadata": {},
   "outputs": [
    {
     "name": "stdout",
     "output_type": "stream",
     "text": [
      "0    1\n",
      "1    1\n",
      "2    1\n",
      "3    1\n",
      "4    1\n",
      "5    1\n",
      "6    1\n",
      "7    1\n",
      "8    1\n",
      "9    1\n",
      "Name: income, dtype: int64\n"
     ]
    }
   ],
   "source": [
    "print(y.head(10))"
   ]
  },
  {
   "cell_type": "markdown",
   "id": "d0a3a3b7",
   "metadata": {},
   "source": [
    "# Data cleaning\n",
    "**B) the next process is to clean by removing duplicates, feature scaling, data types and so on"
   ]
  },
  {
   "cell_type": "code",
   "execution_count": 9,
   "id": "fa9d06d5",
   "metadata": {},
   "outputs": [
    {
     "name": "stdout",
     "output_type": "stream",
     "text": [
      "0            11th\n",
      "1         HS-grad\n",
      "2      Assoc-acdm\n",
      "3    Some-college\n",
      "4    Some-college\n",
      "Name: education, dtype: object\n"
     ]
    }
   ],
   "source": [
    "print(x['education'].head())"
   ]
  },
  {
   "cell_type": "code",
   "execution_count": 10,
   "id": "a6c9ee69",
   "metadata": {},
   "outputs": [
    {
     "name": "stdout",
     "output_type": "stream",
     "text": [
      "   10th  11th  12th  1st-4th  5th-6th  7th-8th  9th  Assoc-acdm  Assoc-voc  \\\n",
      "0     0     1     0        0        0        0    0           0          0   \n",
      "1     0     0     0        0        0        0    0           0          0   \n",
      "2     0     0     0        0        0        0    0           1          0   \n",
      "3     0     0     0        0        0        0    0           0          0   \n",
      "4     0     0     0        0        0        0    0           0          0   \n",
      "\n",
      "   Bachelors  Doctorate  HS-grad  Masters  Preschool  Prof-school  \\\n",
      "0          0          0        0        0          0            0   \n",
      "1          0          0        1        0          0            0   \n",
      "2          0          0        0        0          0            0   \n",
      "3          0          0        0        0          0            0   \n",
      "4          0          0        0        0          0            0   \n",
      "\n",
      "   Some-college  \n",
      "0             0  \n",
      "1             0  \n",
      "2             0  \n",
      "3             1  \n",
      "4             1  \n"
     ]
    }
   ],
   "source": [
    "# one of the important technique  in python is label encoding/ one hot encoding/ get dummies\n",
    "# it can change categorical features into 0's and 1's \n",
    "\n",
    "print(pd.get_dummies(x['education']).head())"
   ]
  },
  {
   "cell_type": "code",
   "execution_count": 11,
   "id": "c657e548",
   "metadata": {},
   "outputs": [
    {
     "name": "stdout",
     "output_type": "stream",
     "text": [
      "Feature workclass has 9 unique categories\n",
      "Feature education has 16 unique categories\n",
      "Feature marital-status has 7 unique categories\n",
      "Feature occupation has 15 unique categories\n",
      "Feature relationship has 6 unique categories\n",
      "Feature race has 5 unique categories\n",
      "Feature gender has 2 unique categories\n",
      "Feature native-country has 42 unique categories\n"
     ]
    }
   ],
   "source": [
    "#  next process to decide which category we are going to use to predict our model\n",
    "# first have to see unique features and predict which suits the most\n",
    "\n",
    "\n",
    "\n",
    "for col_name in x.columns:\n",
    "    if x[col_name].dtypes =='object':\n",
    "        unique_cat = len(x[col_name].unique())\n",
    "        print (\"Feature {col_name} has {unique_cat} unique categories\". format (col_name=col_name, unique_cat =unique_cat))\n",
    "        "
   ]
  },
  {
   "cell_type": "raw",
   "id": "7f0e53f5",
   "metadata": {},
   "source": [
    "# here we assigning x columns as col_name and checking for the unique categories and count its length\n",
    "# after those xcolumns and unique categories will be printed in format like . format (col_name=col_name, unique_cat =unique_cat)\n",
    "# and using placeholders the return statement was printed"
   ]
  },
  {
   "cell_type": "code",
   "execution_count": 12,
   "id": "897306cc",
   "metadata": {},
   "outputs": [
    {
     "name": "stdout",
     "output_type": "stream",
     "text": [
      "United-States    43832\n",
      "Mexico             951\n",
      "?                  857\n",
      "Philippines        295\n",
      "Germany            206\n",
      "Puerto-Rico        184\n",
      "Canada             182\n",
      "El-Salvador        155\n",
      "India              151\n",
      "Cuba               138\n",
      "Name: native-country, dtype: int64\n"
     ]
    }
   ],
   "source": [
    "# we found that native-country has 42 unique categories which is a high frequency than the others.\n",
    "# so now check the native country column\n",
    "print(x['native-country'].value_counts().sort_values(ascending=False).head(10))"
   ]
  },
  {
   "cell_type": "code",
   "execution_count": 13,
   "id": "bdaa1431",
   "metadata": {},
   "outputs": [
    {
     "name": "stdout",
     "output_type": "stream",
     "text": [
      "United-States    43832\n",
      "Other             5010\n",
      "Name: native-country, dtype: int64\n"
     ]
    }
   ],
   "source": [
    "#if there is many low  frequency categories then those things are categorized into one single thing as dummy\n",
    "#so the maximum or high probability frequency will help to predict the model \\\n",
    "# so the remaining low frequency are categorised as other\n",
    "x['native-country'] = ['United-States' if x== 'United-States'else 'Other' for x in x['native-country']]\n",
    "print(x['native-country'].value_counts().sort_values(ascending=False))    "
   ]
  },
  {
   "cell_type": "code",
   "execution_count": 14,
   "id": "1ce5c9d9",
   "metadata": {},
   "outputs": [],
   "source": [
    "# now we create native country feature to use further so other features have to be dummmy. \n",
    "todummy_list = ['workclass','fnlwgt','education','educational-num','marital-status','occupation','relationship',\n",
    "                'race','gender','capital-gain','capital-loss','hours-per-week','native-country','income']\n"
   ]
  },
  {
   "cell_type": "code",
   "execution_count": 15,
   "id": "b4071795",
   "metadata": {},
   "outputs": [],
   "source": [
    "def dummy_df(df,todummy_list):\n",
    "    for x in todummy_list:\n",
    "        dummies = pd.get_dummies(df[x],prefix=x,dummy_na= False)\n",
    "# Remove the original categorical column from the DataFrame\n",
    "        df = df.drop(x,1)        \n",
    "# Concatenate the one-hot encoded columns to the DataFrame\n",
    "        df = pd.concat([df,dummies], axis=1)\n",
    "        return df"
   ]
  },
  {
   "cell_type": "code",
   "execution_count": 16,
   "id": "31e837b8",
   "metadata": {},
   "outputs": [
    {
     "name": "stdout",
     "output_type": "stream",
     "text": [
      "   age  fnlwgt     education  educational-num      marital-status  \\\n",
      "0   25  226802          11th                7       Never-married   \n",
      "1   38   89814       HS-grad                9  Married-civ-spouse   \n",
      "2   28  336951    Assoc-acdm               12  Married-civ-spouse   \n",
      "3   44  160323  Some-college               10  Married-civ-spouse   \n",
      "4   18  103497  Some-college               10       Never-married   \n",
      "\n",
      "          occupation relationship   race  gender  capital-gain  ...  \\\n",
      "0  Machine-op-inspct    Own-child  Black    Male             0  ...   \n",
      "1    Farming-fishing      Husband  White    Male             0  ...   \n",
      "2    Protective-serv      Husband  White    Male             0  ...   \n",
      "3  Machine-op-inspct      Husband  Black    Male          7688  ...   \n",
      "4                  ?    Own-child  White  Female             0  ...   \n",
      "\n",
      "   native-country  workclass_? workclass_Federal-gov  workclass_Local-gov  \\\n",
      "0   United-States            0                     0                    0   \n",
      "1   United-States            0                     0                    0   \n",
      "2   United-States            0                     0                    1   \n",
      "3   United-States            0                     0                    0   \n",
      "4   United-States            1                     0                    0   \n",
      "\n",
      "   workclass_Never-worked  workclass_Private  workclass_Self-emp-inc  \\\n",
      "0                       0                  1                       0   \n",
      "1                       0                  1                       0   \n",
      "2                       0                  0                       0   \n",
      "3                       0                  1                       0   \n",
      "4                       0                  0                       0   \n",
      "\n",
      "   workclass_Self-emp-not-inc  workclass_State-gov  workclass_Without-pay  \n",
      "0                           0                    0                      0  \n",
      "1                           0                    0                      0  \n",
      "2                           0                    0                      0  \n",
      "3                           0                    0                      0  \n",
      "4                           0                    0                      0  \n",
      "\n",
      "[5 rows x 22 columns]\n"
     ]
    },
    {
     "name": "stderr",
     "output_type": "stream",
     "text": [
      "C:\\Users\\User\\AppData\\Local\\Temp\\ipykernel_17956\\1520148412.py:5: FutureWarning: In a future version of pandas all arguments of DataFrame.drop except for the argument 'labels' will be keyword-only.\n",
      "  df = df.drop(x,1)\n"
     ]
    }
   ],
   "source": [
    "x= dummy_df(x, todummy_list)\n",
    "print(x.head())"
   ]
  },
  {
   "cell_type": "markdown",
   "id": "9ecf5f8b",
   "metadata": {},
   "source": [
    "# Removing null values\n"
   ]
  },
  {
   "cell_type": "code",
   "execution_count": 17,
   "id": "afdd91c2",
   "metadata": {},
   "outputs": [
    {
     "data": {
      "text/plain": [
       "age                           0\n",
       "fnlwgt                        0\n",
       "workclass_State-gov           0\n",
       "workclass_Self-emp-not-inc    0\n",
       "workclass_Self-emp-inc        0\n",
       "workclass_Private             0\n",
       "workclass_Never-worked        0\n",
       "workclass_Local-gov           0\n",
       "workclass_Federal-gov         0\n",
       "workclass_?                   0\n",
       "native-country                0\n",
       "hours-per-week                0\n",
       "capital-loss                  0\n",
       "capital-gain                  0\n",
       "gender                        0\n",
       "race                          0\n",
       "relationship                  0\n",
       "occupation                    0\n",
       "marital-status                0\n",
       "educational-num               0\n",
       "education                     0\n",
       "workclass_Without-pay         0\n",
       "dtype: int64"
      ]
     },
     "execution_count": 17,
     "metadata": {},
     "output_type": "execute_result"
    }
   ],
   "source": [
    "x.isnull().sum().sort_values(ascending = False).head(25)"
   ]
  },
  {
   "cell_type": "code",
   "execution_count": 18,
   "id": "2afbb207",
   "metadata": {},
   "outputs": [
    {
     "name": "stdout",
     "output_type": "stream",
     "text": [
      "<class 'pandas.core.frame.DataFrame'>\n",
      "RangeIndex: 48842 entries, 0 to 48841\n",
      "Data columns (total 15 columns):\n",
      " #   Column           Non-Null Count  Dtype \n",
      "---  ------           --------------  ----- \n",
      " 0   age              48842 non-null  int64 \n",
      " 1   workclass        48842 non-null  object\n",
      " 2   fnlwgt           48842 non-null  int64 \n",
      " 3   education        48842 non-null  object\n",
      " 4   educational-num  48842 non-null  int64 \n",
      " 5   marital-status   48842 non-null  object\n",
      " 6   occupation       48842 non-null  object\n",
      " 7   relationship     48842 non-null  object\n",
      " 8   race             48842 non-null  object\n",
      " 9   gender           48842 non-null  object\n",
      " 10  capital-gain     48842 non-null  int64 \n",
      " 11  capital-loss     48842 non-null  int64 \n",
      " 12  hours-per-week   48842 non-null  int64 \n",
      " 13  native-country   48842 non-null  object\n",
      " 14  income           48842 non-null  int64 \n",
      "dtypes: int64(7), object(8)\n",
      "memory usage: 5.6+ MB\n"
     ]
    }
   ],
   "source": [
    "# so there is no null values in our dataset\n",
    "\n",
    "df.info()\n"
   ]
  },
  {
   "cell_type": "code",
   "execution_count": null,
   "id": "4b3cc401",
   "metadata": {},
   "outputs": [],
   "source": []
  }
 ],
 "metadata": {
  "kernelspec": {
   "display_name": "Python 3 (ipykernel)",
   "language": "python",
   "name": "python3"
  },
  "language_info": {
   "codemirror_mode": {
    "name": "ipython",
    "version": 3
   },
   "file_extension": ".py",
   "mimetype": "text/x-python",
   "name": "python",
   "nbconvert_exporter": "python",
   "pygments_lexer": "ipython3",
   "version": "3.10.9"
  }
 },
 "nbformat": 4,
 "nbformat_minor": 5
}
